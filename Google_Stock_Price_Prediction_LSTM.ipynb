{
 "cells": [
  {
   "cell_type": "markdown",
   "id": "8b65f004",
   "metadata": {},
   "source": [
    "# 📈 Google Stock Price Prediction using LSTM\n",
    "\n",
    "This notebook demonstrates how to use an LSTM neural network to predict Google (GOOG) stock prices using historical data.\n",
    "\n",
    "**Author**: Rishika Kumari\n",
    "\n",
    "Dataset Source: [Yahoo Finance](https://finance.yahoo.com/)"
   ]
  },
  {
   "cell_type": "code",
   "execution_count": null,
   "id": "29e77466",
   "metadata": {},
   "outputs": [],
   "source": [
    "!pip install yfinance pandas numpy matplotlib scikit-learn tensorflow"
   ]
  },
  {
   "cell_type": "code",
   "execution_count": null,
   "id": "77442ea4",
   "metadata": {},
   "outputs": [],
   "source": [
    "import yfinance as yf\n",
    "import pandas as pd\n",
    "import numpy as np\n",
    "import matplotlib.pyplot as plt\n",
    "from sklearn.preprocessing import MinMaxScaler\n",
    "from tensorflow.keras.models import Sequential\n",
    "from tensorflow.keras.layers import LSTM, Dense, Dropout\n"
   ]
  },
  {
   "cell_type": "code",
   "execution_count": null,
   "id": "3a4bcbf1",
   "metadata": {},
   "outputs": [],
   "source": [
    "# Download Google stock data\n",
    "df = yf.download('GOOG', start='2010-01-01', end='2023-11-01')\n",
    "df = df[['Close']]\n",
    "df.head()\n"
   ]
  },
  {
   "cell_type": "code",
   "execution_count": null,
   "id": "30c1521b",
   "metadata": {},
   "outputs": [],
   "source": [
    "# Scaling and sequence creation\n",
    "scaler = MinMaxScaler()\n",
    "scaled_data = scaler.fit_transform(df)\n",
    "\n",
    "sequence_length = 60\n",
    "X, y = [], []\n",
    "\n",
    "for i in range(sequence_length, len(scaled_data)):\n",
    "    X.append(scaled_data[i-sequence_length:i])\n",
    "    y.append(scaled_data[i])\n",
    "\n",
    "X, y = np.array(X), np.array(y)\n",
    "\n",
    "# Split into training and testing\n",
    "split = int(0.8 * len(X))\n",
    "X_train, X_test = X[:split], X[split:]\n",
    "y_train, y_test = y[:split], y[split:]\n"
   ]
  },
  {
   "cell_type": "code",
   "execution_count": null,
   "id": "415b120f",
   "metadata": {},
   "outputs": [],
   "source": [
    "model = Sequential()\n",
    "model.add(LSTM(units=50, return_sequences=True, input_shape=(X.shape[1], 1)))\n",
    "model.add(Dropout(0.2))\n",
    "model.add(LSTM(units=50))\n",
    "model.add(Dropout(0.2))\n",
    "model.add(Dense(units=1))\n",
    "\n",
    "model.compile(optimizer='adam', loss='mean_squared_error')\n",
    "model.fit(X_train, y_train, epochs=20, batch_size=32)\n"
   ]
  },
  {
   "cell_type": "code",
   "execution_count": null,
   "id": "ecd667ca",
   "metadata": {},
   "outputs": [],
   "source": [
    "predictions = model.predict(X_test)\n",
    "predictions = scaler.inverse_transform(predictions)\n",
    "real = scaler.inverse_transform(y_test.reshape(-1, 1))\n",
    "\n",
    "plt.figure(figsize=(12,6))\n",
    "plt.plot(real, color='blue', label='Actual Google Stock Price')\n",
    "plt.plot(predictions, color='red', label='Predicted Google Stock Price')\n",
    "plt.title('Google Stock Price Prediction with LSTM')\n",
    "plt.xlabel('Time')\n",
    "plt.ylabel('Stock Price')\n",
    "plt.legend()\n",
    "plt.show()\n"
   ]
  }
 ],
 "metadata": {},
 "nbformat": 4,
 "nbformat_minor": 5
}
